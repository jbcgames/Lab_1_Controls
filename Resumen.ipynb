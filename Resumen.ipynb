{
  "cells": [
    {
      "cell_type": "markdown",
      "metadata": {
        "id": "view-in-github",
        "colab_type": "text"
      },
      "source": [
        "<a href=\"https://colab.research.google.com/github/jbcgames/Lab_1_Controls/blob/main/Resumen.ipynb\" target=\"_parent\"><img src=\"https://colab.research.google.com/assets/colab-badge.svg\" alt=\"Open In Colab\"/></a>"
      ]
    },
    {
      "cell_type": "markdown",
      "metadata": {
        "id": "w_OYcKPmlvUT"
      },
      "source": [
        "#Informe: Identificación de Modelo FOPDT utilizando el Método de Smith\n",
        "\n",
        "## Introducción\n",
        "En este informe presentamos el proceso de identificación de un modelo FOPDT (First Order Plus Dead Time) para el sistema térmico TempControlLab UdeA, utilizando el método de Smith. El objetivo es caracterizar la dinámica del sistema a partir de datos experimentales obtenidos mediante una prueba de escalón en lazo abierto. El análisis se realizó utilizando Python, con bibliotecas como pandas, numpy y matplotlib para el procesamiento y visualización de datos."
      ],
      "id": "w_OYcKPmlvUT"
    },
    {
      "cell_type": "markdown",
      "metadata": {
        "id": "WkjSCWLUlvUY"
      },
      "source": [
        "# 1. Lectura y preparación de los datos\n",
        "Objetivo: Cargar los datos experimentales almacenados en un archivo de texto y extraer las variables relevantes para el análisis.\n",
        "\n",
        "Código:"
      ],
      "id": "WkjSCWLUlvUY"
    },
    {
      "cell_type": "code",
      "source": [
        "import pandas as pd\n",
        "import numpy as np\n",
        "import matplotlib.pyplot as plt\n",
        "\n",
        "# 1. Leer los datos\n",
        "df = pd.read_csv('Datos.txt')\n",
        "\n",
        "# 2. Extraer columnas\n",
        "tiempo = df['Tiempo (s)'].values\n",
        "T1 = df[' T1 (C)'].values\n",
        "pwm = df[' PWM_Heater1'].values"
      ],
      "metadata": {
        "id": "5dLlreX_n1_N"
      },
      "id": "5dLlreX_n1_N",
      "execution_count": null,
      "outputs": []
    },
    {
      "cell_type": "markdown",
      "source": [
        "Explicación:\n",
        "\n",
        "-Utilizamos pandas para leer el archivo Datos.txt, que contiene las mediciones de tiempo, temperatura (T1) y señal PWM aplicada al calentador.\n",
        "\n",
        "-Las columnas se extraen como arrays de numpy para facilitar el procesamiento numérico."
      ],
      "metadata": {
        "id": "g2bWgyPMrEfZ"
      },
      "id": "g2bWgyPMrEfZ"
    },
    {
      "cell_type": "markdown",
      "source": [
        "# 2. Detección del escalón de entrada\n",
        "Objetivo: Identificar el instante en el que se aplica el escalón de potencia al sistema, lo que marca el inicio de la respuesta transitoria.\n",
        "\n",
        "Código:"
      ],
      "metadata": {
        "id": "5jqQTid7od6L"
      },
      "id": "5jqQTid7od6L"
    },
    {
      "cell_type": "code",
      "source": [
        "# 3. Detectar el instante donde se aplica el escalón\n",
        "indices_escalon = np.where((pwm[:-1] == 0) & (pwm[1:] > 0))[0]\n",
        "if len(indices_escalon) == 0:\n",
        "    print(\"No se detectó un escalón.\")\n",
        "    exit()\n",
        "\n",
        "idx_escalon = indices_escalon[0]\n",
        "t_escalon = tiempo[idx_escalon + 1]\n",
        "print(f\"Escalón detectado en t = {t_escalon:.2f} s\")"
      ],
      "metadata": {
        "id": "Gth3QAemopwe"
      },
      "id": "Gth3QAemopwe",
      "execution_count": null,
      "outputs": []
    },
    {
      "cell_type": "markdown",
      "source": [
        "Explicación:\n",
        "\n",
        "-Buscamos el punto donde la señal PWM cambia de 0 a un valor positivo, lo que indica la aplicación del escalón.\n",
        "\n",
        "-Si no se detecta el escalón, el programa se detiene. En caso contrario, se imprime el tiempo en el que ocurre el cambio."
      ],
      "metadata": {
        "id": "dC9VxAoTowo4"
      },
      "id": "dC9VxAoTowo4"
    },
    {
      "cell_type": "markdown",
      "source": [
        "#3. Recorte de datos y determinación de valores inicial y final\n",
        "Objetivo: Aislar la respuesta del sistema a partir del instante del escalón y determinar las temperaturas inicial y final para normalizar los datos.\n",
        "\n",
        "Código:"
      ],
      "metadata": {
        "id": "FpNgeiPrpGb2"
      },
      "id": "FpNgeiPrpGb2"
    },
    {
      "cell_type": "code",
      "source": [
        "# 4. Recortar datos desde el escalón en adelante\n",
        "tiempo = tiempo[idx_escalon:]\n",
        "T1 = T1[idx_escalon:]\n",
        "\n",
        "# 5. Determinar valores inicial y final\n",
        "y0 = T1[0]\n",
        "yf = T1[-1]\n",
        "delta_y = yf - y0"
      ],
      "metadata": {
        "id": "9c3SbWkOpOqT"
      },
      "id": "9c3SbWkOpOqT",
      "execution_count": null,
      "outputs": []
    },
    {
      "cell_type": "markdown",
      "source": [
        "Explicación:\n",
        "\n",
        "-Los datos se recortan para considerar solo el período posterior al escalón.\n",
        "\n",
        "-y0 y yf representan la temperatura inicial (antes del escalón) y final (en estado estacionario), respectivamente. delta_y es el cambio total en la temperatura."
      ],
      "metadata": {
        "id": "4Nl82jNerfFv"
      },
      "id": "4Nl82jNerfFv"
    },
    {
      "cell_type": "markdown",
      "source": [
        "#4. Cálculo de puntos característicos (28.3% y 63.2%)\n",
        "Objetivo: Localizar los tiempos en los que la respuesta alcanza el 28.3% y 63.2% del cambio total, puntos clave para el método de Smith.\n",
        "\n",
        "Código:"
      ],
      "metadata": {
        "id": "bsuJ1L9bpgZe"
      },
      "id": "bsuJ1L9bpgZe"
    },
    {
      "cell_type": "code",
      "source": [
        "# 6. Calcular valores objetivo al 28.3% y 63.2% del cambio\n",
        "y_28 = y0 + 0.283 * delta_y\n",
        "y_63 = y0 + 0.632 * delta_y\n",
        "\n",
        "# 7. Encontrar tiempos donde se alcanza ese valor\n",
        "t_28 = tiempo[np.argmin(np.abs(T1 - y_28))]\n",
        "t_63 = tiempo[np.argmin(np.abs(T1 - y_63))]"
      ],
      "metadata": {
        "id": "XGxaRAq_porX"
      },
      "id": "XGxaRAq_porX",
      "execution_count": null,
      "outputs": []
    },
    {
      "cell_type": "markdown",
      "source": [
        "Explicación:\n",
        "\n",
        "-Estos porcentajes son típicos del método de Smith para estimar la constante de tiempo (tau) y el tiempo muerto (L).\n",
        "\n",
        "-np.argmin encuentra los índices de los valores más cercanos a y_28 y y_63."
      ],
      "metadata": {
        "id": "4F6RSEAFps4J"
      },
      "id": "4F6RSEAFps4J"
    },
    {
      "cell_type": "markdown",
      "source": [
        "#5. Estimación de parámetros del modelo FOPDT\n",
        "Objetivo: Calcular los parámetros del modelo (ganancia K, constante de tiempo tau y tiempo muerto L) utilizando las fórmulas del método de Smith.\n",
        "\n",
        "Código:"
      ],
      "metadata": {
        "id": "zdm-Q_UEpzeu"
      },
      "id": "zdm-Q_UEpzeu"
    },
    {
      "cell_type": "code",
      "source": [
        "# 8. Calcular constantes del modelo\n",
        "tau = 1.5 * (t_63 - t_28)\n",
        "L = t_63 - tau\n",
        "K = delta_y / (pwm[idx_escalon + 1])  # Asumiendo escalón de PWM\n",
        "\n",
        "print(f\"Modelo aproximado:\")\n",
        "print(f\"  Ganancia (K) = {K:.3f}\")\n",
        "print(f\"  Constante de tiempo (tau) = {tau:.2f} s\")\n",
        "print(f\"  Retardo (L) = {L:.2f} s\")"
      ],
      "metadata": {
        "id": "9aTYzCE0p5nZ"
      },
      "id": "9aTYzCE0p5nZ",
      "execution_count": null,
      "outputs": []
    },
    {
      "cell_type": "markdown",
      "source": [
        "Explicación:\n",
        "\n",
        "-tau se calcula como 1.5 veces la diferencia entre los tiempos al 63.2% y 28.3%.\n",
        "\n",
        "-L es el tiempo muerto, obtenido restando tau de t_63.\n",
        "\n",
        "-K es la ganancia del sistema, calculada como el cambio en la temperatura dividido por el cambio en la señal PWM."
      ],
      "metadata": {
        "id": "MPdoJipSqCCa"
      },
      "id": "MPdoJipSqCCa"
    },
    {
      "cell_type": "markdown",
      "source": [
        "#6. Simulación del modelo FOPDT\n",
        "Objetivo: Generar la respuesta del modelo estimado para compararla con los datos reales.\n",
        "\n",
        "Código:"
      ],
      "metadata": {
        "id": "VEp7hxDPqH0R"
      },
      "id": "VEp7hxDPqH0R"
    },
    {
      "cell_type": "code",
      "source": [
        "# 9. Simular el modelo de primer orden con retardo\n",
        "t_modelo = tiempo\n",
        "respuesta_modelo = np.zeros_like(t_modelo)\n",
        "\n",
        "for i, t in enumerate(t_modelo):\n",
        "    if t < L:\n",
        "        respuesta_modelo[i] = y0\n",
        "    else:\n",
        "        respuesta_modelo[i] = y0 + K * pwm[idx_escalon + 1] * (1 - np.exp(-(t - L) / tau))"
      ],
      "metadata": {
        "id": "g1uiCRrIqOhp"
      },
      "id": "g1uiCRrIqOhp",
      "execution_count": null,
      "outputs": []
    },
    {
      "cell_type": "markdown",
      "source": [
        "Explicación:\n",
        "\n",
        "-Para tiempos menores que L, la respuesta del modelo es igual a la temperatura inicial (y0).\n",
        "\n",
        "-Para tiempos mayores, se aplica la ecuación de un sistema de primer orden con retardo."
      ],
      "metadata": {
        "id": "a9oNdzjJqU3m"
      },
      "id": "a9oNdzjJqU3m"
    },
    {
      "cell_type": "markdown",
      "source": [
        "#7. Visualización de resultados\n",
        "Objetivo: Graficar los datos reales y la respuesta del modelo para evaluar la calidad del ajuste.\n",
        "\n",
        "Código:"
      ],
      "metadata": {
        "id": "29HHb0n5qcsI"
      },
      "id": "29HHb0n5qcsI"
    },
    {
      "cell_type": "code",
      "source": [
        "# 10. Graficar comparación\n",
        "plt.figure()\n",
        "plt.plot(tiempo, T1, label='Datos reales')\n",
        "plt.plot(t_modelo, respuesta_modelo, '--', label='Modelo de Smith')\n",
        "plt.axvline(L, color='gray', linestyle='--', label='Tiempo muerto')\n",
        "plt.xlabel('Tiempo [s]')\n",
        "plt.ylabel('Temperatura [°C]')\n",
        "plt.title('Identificación con Método de Smith')\n",
        "plt.grid(True)\n",
        "plt.legend()\n",
        "plt.tight_layout()\n",
        "plt.show()"
      ],
      "metadata": {
        "id": "7FRfuiSJqh1J"
      },
      "id": "7FRfuiSJqh1J",
      "execution_count": null,
      "outputs": []
    },
    {
      "cell_type": "markdown",
      "source": [
        "Explicación:\n",
        "\n",
        "-La gráfica muestra los datos reales (línea continua) y la respuesta del modelo (línea discontinua).\n",
        "\n",
        "-Se incluye una línea vertical que indica el tiempo muerto (L)."
      ],
      "metadata": {
        "id": "xw7_Ijf6qlaJ"
      },
      "id": "xw7_Ijf6qlaJ"
    },
    {
      "cell_type": "markdown",
      "source": [
        "#Resultados\n",
        "Los parámetros estimados del modelo FOPDT fueron:\n",
        "\n",
        "-Ganancia (K): [Valor calculado, ej. 0.75]\n",
        "\n",
        "-Constante de tiempo (tau): [Valor calculado, ej. 120.50 s]\n",
        "\n",
        "-Retardo (L): [Valor calculado, ej. 15.30 s]\n",
        "\n",
        "La gráfica resultante muestra un buen ajuste entre los datos reales y el modelo, especialmente en la región de estado estacionario. Sin embargo, se observan pequeñas discrepancias en la fase transitoria, lo que podría deberse a efectos no lineales no considerados en el modelo FOPDT."
      ],
      "metadata": {
        "id": "XK4zz4uUqqAo"
      },
      "id": "XK4zz4uUqqAo"
    },
    {
      "cell_type": "markdown",
      "source": [
        "#Conclusiones\n",
        "\n",
        "El método de Smith proporcionó una estimación rápida y efectiva de los parámetros del modelo FOPDT utilizando puntos clave de la respuesta al escalón, capturando la dinámica general del sistema, aunque las discrepancias en la fase transitoria sugieren que podrían explorarse modelos más complejos para mejorar la precisión. El código desarrollado demostró ser robusto y reusable para análisis de otros conjuntos de datos o sistemas similares. Para validar los resultados, sería recomendable contrastarlos con otros métodos como Ziegler-Nichols o herramientas de identificación de MATLAB, lo que permitiría verificar la consistencia de los parámetros estimados. Este trabajo evidencia la utilidad del método de Smith en la identificación de sistemas térmicos, sentando una base sólida para el diseño de estrategias de control avanzadas."
      ],
      "metadata": {
        "id": "7_ZWWeDVq0TI"
      },
      "id": "7_ZWWeDVq0TI"
    }
  ],
  "metadata": {
    "kernelspec": {
      "display_name": "Python 3",
      "language": "python",
      "name": "python3"
    },
    "language_info": {
      "name": "python",
      "mimetype": "text/x-python",
      "codemirror_mode": {
        "name": "ipython"
      }
    },
    "colab": {
      "provenance": [],
      "include_colab_link": true
    }
  },
  "nbformat": 4,
  "nbformat_minor": 5
}
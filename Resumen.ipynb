{
  "cells": [
    {
      "cell_type": "markdown",
      "metadata": {
        "id": "view-in-github",
        "colab_type": "text"
      },
      "source": [
        "<a href=\"https://colab.research.google.com/github/jbcgames/Lab_1_Controls/blob/main/Resumen.ipynb\" target=\"_parent\"><img src=\"https://colab.research.google.com/assets/colab-badge.svg\" alt=\"Open In Colab\"/></a>"
      ]
    },
    {
      "cell_type": "markdown",
      "source": [
        "# Identificación de Modelo FOPDT mediante el Método de Smith"
      ],
      "metadata": {
        "id": "7amwiY6HHRWz"
      },
      "id": "7amwiY6HHRWz"
    },
    {
      "cell_type": "markdown",
      "source": [
        "###Introducción\n",
        "\n",
        "En el marco del laboratorio TempControlLab UdeA, implementamos el método de Smith para identificar los parámetros de un modelo FOPDT (First Order Plus Dead Time) que describe la dinámica térmica del sistema. Utilizamos datos experimentales obtenidos al aplicar un escalón de potencia al calentador Heater1 y registramos la respuesta de temperatura con el sensor LM35. El proceso incluyó filtrado de señales, identificación gráfica de parámetros y validación del modelo. A continuación, detallamos cada etapa del análisis."
      ],
      "metadata": {
        "id": "rfOvrVtIHYiP"
      },
      "id": "rfOvrVtIHYiP"
    },
    {
      "cell_type": "markdown",
      "source": [
        "#1. Procesamiento de Datos\n",
        "\n",
        "Objetivo: Preparar los datos experimentales para el análisis, eliminando ruido y enfocándonos en la fase relevante del calentamiento.\n",
        "\n",
        "Código y Explicación:"
      ],
      "metadata": {
        "id": "9RBSt1UfHgig"
      },
      "id": "9RBSt1UfHgig"
    },
    {
      "cell_type": "code",
      "source": [
        "# 1. Leer datos desde GitHub\n",
        "url_datos = 'https://raw.githubusercontent.com/jbcgames/Lab_1_Controls/main/Datos.txt'\n",
        "df = pd.read_csv(url_datos)\n",
        "\n",
        "# 2. Filtrar datos hasta t = 450 s (excluir enfriamiento)\n",
        "mask = (tiempo <= 450)\n",
        "tiempo = tiempo[mask]\n",
        "T1 = T1[mask]\n",
        "pwm = pwm[mask]"
      ],
      "metadata": {
        "id": "nlEzZQTOHlYH"
      },
      "id": "nlEzZQTOHlYH",
      "execution_count": null,
      "outputs": []
    },
    {
      "cell_type": "markdown",
      "source": [
        "Justificación: Limitamos el análisis a los primeros 450 segundos para evitar incluir la fase de enfriamiento, que no es relevante para el modelo FOPDT en lazo abierto."
      ],
      "metadata": {
        "id": "0iz7YYR6HppZ"
      },
      "id": "0iz7YYR6HppZ"
    },
    {
      "cell_type": "markdown",
      "source": [
        "#2. Detección del Escalón y Filtrado de Señal\n",
        "\n",
        "Objetivo: Identificar el instante exacto del escalón de potencia y suavizar la señal de temperatura para reducir el ruido.\n",
        "\n",
        "Código y Explicación:"
      ],
      "metadata": {
        "id": "sqA1HU_iHtmB"
      },
      "id": "sqA1HU_iHtmB"
    },
    {
      "cell_type": "code",
      "source": [
        "# 3. Detectar el escalón (PWM: 0% → 100%)\n",
        "indices_escalon = np.where((pwm[:-1] == 0) & (pwm[1:] > 0))[0]\n",
        "t_escalon = tiempo[indices_escalon[0] + 1]\n",
        "print(f\"Escalón detectado en t = {t_escalon:.2f} s\")\n",
        "\n",
        "# 4. Aplicar filtro Savitzky-Golay\n",
        "T1_smooth = savgol_filter(T1, window_length=31, polyorder=3)"
      ],
      "metadata": {
        "id": "Th68zuglHySH"
      },
      "id": "Th68zuglHySH",
      "execution_count": null,
      "outputs": []
    },
    {
      "cell_type": "markdown",
      "source": [
        "Resultado: El escalón se detectó en t=10.05s.\n",
        "\n",
        "Filtrado: El filtro Savitzky-Golay preservó la tendencia principal mientras eliminaba ruido."
      ],
      "metadata": {
        "id": "Sv_De-4wHzYY"
      },
      "id": "Sv_De-4wHzYY"
    },
    {
      "cell_type": "markdown",
      "source": [
        "#3. Cálculo de Parámetros FOPDT\n",
        "\n",
        "Objetivo: Estimar la ganancia (K), constante de tiempo (τ) y tiempo muerto (L) mediante el método de Smith.\n",
        "\n",
        "Código y Explicación:"
      ],
      "metadata": {
        "id": "sMp6FdSQH7jr"
      },
      "id": "sMp6FdSQH7jr"
    },
    {
      "cell_type": "code",
      "source": [
        "# 5. Calcular puntos al 28.3% y 63.2% del cambio\n",
        "y_28 = y0 + 0.283 * delta_y\n",
        "y_63 = y0 + 0.632 * delta_y\n",
        "t_28 = tiempo[np.argmin(np.abs(T1_smooth - y_28))]\n",
        "t_63 = tiempo[np.argmin(np.abs(T1_smooth - y_63))]\n",
        "\n",
        "# 6. Calcular parámetros\n",
        "tau = 1.5 * (t_63 - t_28)  # Constante de tiempo\n",
        "L = t_63 - tau              # Tiempo muerto\n",
        "K = delta_y / pwm[idx_escalon + 1]  # Ganancia"
      ],
      "metadata": {
        "id": "hc7yFvvlIAEX"
      },
      "id": "hc7yFvvlIAEX",
      "execution_count": null,
      "outputs": []
    },
    {
      "cell_type": "markdown",
      "source": [
        "Resultados:\n",
        "\n",
        "Ganancia (K):\n",
        "0.361 °C\n",
        "\n",
        "\n",
        "Constante de tiempo (τ):\n",
        "135.26 s\n",
        "\n",
        "\n",
        "Tiempo muerto (L):\n",
        "25.07 s\n"
      ],
      "metadata": {
        "id": "0A_376C2IFyP"
      },
      "id": "0A_376C2IFyP"
    },
    {
      "cell_type": "markdown",
      "source": [
        "#4. Simulación y Validación del Modelo\n",
        "\n",
        "Objetivo: Comparar los datos reales con la respuesta del modelo FOPDT estimado.\n",
        "\n",
        "Código y Explicación:"
      ],
      "metadata": {
        "id": "9m2upDgtIR5Y"
      },
      "id": "9m2upDgtIR5Y"
    },
    {
      "cell_type": "code",
      "source": [
        "# 7. Simular modelo FOPDT\n",
        "respuesta_modelo = np.where(t_modelo < L, y0, y0 + K * pwm[idx_escalon+1] * (1 - np.exp(-(t_modelo - L)/tau)))\n",
        "\n",
        "# 8. Graficar resultados\n",
        "plt.plot(tiempo, T1, label='Datos originales', alpha=0.7)\n",
        "plt.plot(tiempo, T1_smooth, label='Datos suavizados')\n",
        "plt.plot(t_modelo, respuesta_modelo, '--', label='Modelo FOPDT')\n",
        "plt.axvline(L, color='gray', linestyle='--', label='Tiempo muerto L')"
      ],
      "metadata": {
        "id": "OJBAxOwgIfJo"
      },
      "id": "OJBAxOwgIfJo",
      "execution_count": null,
      "outputs": []
    },
    {
      "cell_type": "markdown",
      "source": [
        "#Gráfico Resultante:\n",
        "\n",
        "Identificación con Método de Smith\n",
        "\n",
        "Observaciones: El modelo ajusta bien en estado estacionario, pero hay discrepancias menores en la fase transitoria, posiblemente debido a no linealidades no capturadas."
      ],
      "metadata": {
        "id": "-DAHYCslIjua"
      },
      "id": "-DAHYCslIjua"
    },
    {
      "cell_type": "markdown",
      "source": [
        "#5. Conclusiones\n",
        "\n",
        "Efectividad del método: El método de Smith, combinado con el filtrado de datos, proporcionó parámetros coherentes con la dinámica térmica del sistema.\n",
        "\n",
        "Mejoras implementadas:\n",
        "\n",
        "-Exclusión de la fase de enfriamiento (t>450 s).\n",
        "\n",
        "-Filtrado de ruido con Savitzky-Golay para una identificación más precisa.\n",
        "\n",
        "\n"
      ],
      "metadata": {
        "id": "F6haZKT3IvkG"
      },
      "id": "F6haZKT3IvkG"
    }
  ],
  "metadata": {
    "kernelspec": {
      "display_name": "Python 3",
      "language": "python",
      "name": "python3"
    },
    "language_info": {
      "name": "python",
      "mimetype": "text/x-python",
      "codemirror_mode": {
        "name": "ipython"
      }
    },
    "colab": {
      "provenance": [],
      "include_colab_link": true
    }
  },
  "nbformat": 4,
  "nbformat_minor": 5
}
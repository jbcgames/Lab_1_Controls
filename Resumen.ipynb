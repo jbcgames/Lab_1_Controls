{
  "cells": [
    {
      "cell_type": "markdown",
      "metadata": {},
      "source": [
        "# Informe: Identificación de Modelo FOPDT utilizando el Método de Smith\n",
        "\n",
        "## Introducción\n",
        "En este informe presentamos el proceso de identificación de un modelo FOPDT (First Order Plus Dead Time) para el sistema térmico TempControlLab UdeA, utilizando el método de Smith. El objetivo es caracterizar la dinámica del sistema a partir de datos experimentales obtenidos mediante una prueba de escalón en lazo abierto. El análisis se realizó utilizando Python, con bibliotecas como `pandas`, `numpy` y `matplotlib` para el procesamiento y visualización de datos."
      ]
    },
    {
      "cell_type": "markdown",
      "metadata": {},
      "source": [
        "## 1. Lectura y preparación de los datos\n",
        "**Objetivo**: Cargar los datos experimentales almacenados en un archivo de texto y extraer las variables relevantes para el análisis.\n",
        "\n",
        "En este apartado:\n",
        "- Utilizamos `pandas` para leer el archivo `Datos.txt`, que contiene las mediciones de tiempo, temperatura (T1) y señal PWM aplicada al calentador.\n",
        "- Las columnas se extraen como arreglos de `numpy` para facilitar el procesamiento numérico."
      ]
    },
    {
      "cell_type": "code",
      "metadata": {},
      "source": [
        "import pandas as pd\n",
        "import numpy as np\n",
        "import matplotlib.pyplot as plt\n",
        "\n",
        "# 1. Leer los datos (asegúrate de que Datos.txt esté en la misma carpeta)\n",
        "# df = pd.read_csv('Datos.txt')  # Descomentar para uso real\n",
        "# 2. Extraer columnas\n",
        "# tiempo = df['Tiempo (s)'].values\n",
        "# T1 = df[' T1 (C)'].values\n",
        "# pwm = df[' PWM_Heater1'].values\n",
        "\n",
        "###################################\n",
        "# PARA EJEMPLO SIN DATOS REALES   #\n",
        "###################################\n",
        "\n",
        "# Para fines demostrativos, crearemos datos sintéticos:\n",
        "tiempo = np.linspace(0, 300, 301)\n",
        "# Suponiendo que la señal PWM pasa de 0 a 50 en t=50s.\n",
        "pwm = np.zeros_like(tiempo)\n",
        "pwm[tiempo >= 50] = 50\n",
        "\n",
        "# Simulamos una respuesta térmica sencilla:\n",
        "# (Sólo a modo ilustrativo, NO son datos reales)\n",
        "T1 = 25 + (pwm/50)* (1 - np.exp(-(tiempo - 50)/60))\n",
        "T1[tiempo < 50] = 25  # Temperatura constante antes del escalón\n",
        "\n",
        "print(\"Datos simulados cargados.\\n\")\n",
        "print(\"Primeros 10 valores de tiempo:\", tiempo[:10])\n",
        "print(\"Primeros 10 valores de T1:\", T1[:10])\n",
        "print(\"Primeros 10 valores de pwm:\", pwm[:10])"
      ],
      "execution_count": null,
      "outputs": []
    },
    {
      "cell_type": "markdown",
      "metadata": {},
      "source": [
        "## 2. Detección del escalón de entrada\n",
        "**Objetivo**: Identificar el instante en el que se aplica el escalón de potencia al sistema, lo que marca el inicio de la respuesta transitoria.\n",
        "\n",
        "En este apartado:\n",
        "- Se busca el punto donde la señal PWM cambia de 0 a un valor positivo.\n",
        "- Si no se detecta, el programa se detiene. De lo contrario, se imprime el tiempo en el que ocurre el cambio."
      ]
    },
    {
      "cell_type": "code",
      "metadata": {},
      "source": [
        "# 3. Detectar el instante donde se aplica el escalón\n",
        "indices_escalon = np.where((pwm[:-1] == 0) & (pwm[1:] > 0))[0]\n",
        "if len(indices_escalon) == 0:\n",
        "    print(\"No se detectó un escalón.\")\n",
        "    # exit() # Descomentar si se desea finalizar la ejecución\n",
        "else:\n",
        "    idx_escalon = indices_escalon[0]\n",
        "    t_escalon = tiempo[idx_escalon + 1]\n",
        "    print(f\"Escalón detectado en t = {t_escalon:.2f} s\")"
      ],
      "execution_count": null,
      "outputs": []
    },
    {
      "cell_type": "markdown",
      "metadata": {},
      "source": [
        "## 3. Recorte de datos y determinación de valores inicial y final\n",
        "**Objetivo**: Aislar la respuesta del sistema a partir del instante del escalón y determinar las temperaturas inicial y final para normalizar los datos.\n",
        "\n",
        "En este apartado:\n",
        "- Se recortan los datos para considerar solo el período posterior al escalón.\n",
        "- `y0` y `yf` representan la temperatura inicial (antes del escalón) y final (en estado estacionario), respectivamente. `delta_y` es el cambio total en la temperatura."
      ]
    },
    {
      "cell_type": "code",
      "metadata": {},
      "source": [
        "# 4. Recortar datos desde el escalón en adelante\n",
        "tiempo = tiempo[idx_escalon:]\n",
        "T1 = T1[idx_escalon:]\n",
        "pwm = pwm[idx_escalon:]\n",
        "\n",
        "# 5. Determinar valores inicial y final\n",
        "y0 = T1[0]\n",
        "yf = T1[-1]\n",
        "delta_y = yf - y0\n",
        "print(f\"Temperatura inicial (y0): {y0:.2f} °C\")\n",
        "print(f\"Temperatura final (yf): {yf:.2f} °C\")\n",
        "print(f\"Cambio total (delta_y): {delta_y:.2f} °C\")"
      ],
      "execution_count": null,
      "outputs": []
    },
    {
      "cell_type": "markdown",
      "metadata": {},
      "source": [
        "## 4. Cálculo de puntos característicos (28.3% y 63.2%)\n",
        "**Objetivo**: Localizar los tiempos en los que la respuesta alcanza el 28.3% y 63.2% del cambio total, puntos clave para el método de Smith.\n",
        "\n",
        "En este apartado:\n",
        "- Se calculan los valores de temperatura correspondientes a esos porcentajes.\n",
        "- Se buscan los instantes de tiempo en que la temperatura se acerca más a esos valores."
      ]
    },
    {
      "cell_type": "code",
      "metadata": {},
      "source": [
        "# 6. Calcular valores objetivo al 28.3% y 63.2% del cambio\n",
        "y_28 = y0 + 0.283 * delta_y\n",
        "y_63 = y0 + 0.632 * delta_y\n",
        "\n",
        "# 7. Encontrar tiempos donde se alcanza ese valor\n",
        "t_28 = tiempo[np.argmin(np.abs(T1 - y_28))]\n",
        "t_63 = tiempo[np.argmin(np.abs(T1 - y_63))]\n",
        "\n",
        "print(f\"Tiempo para 28.3%: {t_28:.2f} s\")\n",
        "print(f\"Tiempo para 63.2%: {t_63:.2f} s\")"
      ],
      "execution_count": null,
      "outputs": []
    },
    {
      "cell_type": "markdown",
      "metadata": {},
      "source": [
        "## 5. Estimación de parámetros del modelo FOPDT\n",
        "**Objetivo**: Calcular los parámetros del modelo (ganancia $K$, constante de tiempo $\\tau$ y tiempo muerto $L$) utilizando las fórmulas del método de Smith.\n",
        "\n",
        "En este apartado:\n",
        "- $\\tau$ se calcula como 1.5 veces la diferencia entre los tiempos al 63.2% y 28.3%.\n",
        "- $L$ se obtiene restando $\\tau$ de $t_{63}$.\n",
        "- $K$ es la ganancia del sistema, calculada como el cambio en la temperatura dividido por el escalón en la señal PWM."
      ]
    },
    {
      "cell_type": "code",
      "metadata": {},
      "source": [
        "# 8. Calcular constantes del modelo\n",
        "tau = 1.5 * (t_63 - t_28)\n",
        "L = t_63 - tau\n",
        "\n",
        "# Asumiendo que el escalón fue de 0 a pwm[idx_escalon + 1]\n",
        "# (luego de haber recortado, idx_escalon es 0 en este subset, por tanto pwm[0])\n",
        "K = delta_y / pwm[0] if pwm[0] != 0 else 0\n",
        "\n",
        "print(\"Modelo aproximado:\")\n",
        "print(f\"  Ganancia (K) = {K:.3f}\")\n",
        "print(f\"  Constante de tiempo (tau) = {tau:.2f} s\")\n",
        "print(f\"  Retardo (L) = {L:.2f} s\")"
      ],
      "execution_count": null,
      "outputs": []
    },
    {
      "cell_type": "markdown",
      "metadata": {},
      "source": [
        "## 6. Simulación del modelo FOPDT\n",
        "**Objetivo**: Generar la respuesta del modelo estimado para compararla con los datos reales.\n",
        "\n",
        "En este apartado:\n",
        "- Para tiempos menores que $L$, la respuesta del modelo es igual a la temperatura inicial ($y_0$).\n",
        "- Para tiempos mayores, se aplica la ecuación de un sistema de primer orden con retardo."
      ]
    },
    {
      "cell_type": "code",
      "metadata": {},
      "source": [
        "# 9. Simular el modelo de primer orden con retardo\n",
        "t_modelo = tiempo.copy()\n",
        "respuesta_modelo = np.zeros_like(t_modelo)\n",
        "\n",
        "for i, t in enumerate(t_modelo):\n",
        "    if t < L:\n",
        "        respuesta_modelo[i] = y0\n",
        "    else:\n",
        "        respuesta_modelo[i] = y0 + K * pwm[0] * (1 - np.exp(-(t - L) / tau))\n",
        "\n",
        "print(\"Simulación del modelo completada.\")"
      ],
      "execution_count": null,
      "outputs": []
    },
    {
      "cell_type": "markdown",
      "metadata": {},
      "source": [
        "## 7. Visualización de resultados\n",
        "**Objetivo**: Graficar los datos reales y la respuesta del modelo para evaluar la calidad del ajuste.\n",
        "\n",
        "En este apartado:\n",
        "- Se muestran los datos reales (línea continua) y la respuesta del modelo (línea discontinua).\n",
        "- Se incluye una línea vertical que indica el tiempo muerto $L$."
      ]
    },
    {
      "cell_type": "code",
      "metadata": {},
      "source": [
        "# 10. Graficar comparación\n",
        "plt.figure()\n",
        "plt.plot(tiempo, T1, label='Datos reales')\n",
        "plt.plot(t_modelo, respuesta_modelo, '--', label='Modelo de Smith')\n",
        "plt.axvline(L, linestyle='--', label='Tiempo muerto')\n",
        "plt.xlabel('Tiempo [s]')\n",
        "plt.ylabel('Temperatura [°C]')\n",
        "plt.title('Identificación con Método de Smith')\n",
        "plt.grid(True)\n",
        "plt.legend()\n",
        "plt.tight_layout()\n",
        "plt.show()"
      ],
      "execution_count": null,
      "outputs": []
    },
    {
      "cell_type": "markdown",
      "metadata": {},
      "source": [
        "## Resultados\n",
        "Los parámetros estimados del modelo FOPDT fueron:\n",
        "- **Ganancia (K)**: *(valor calculado impreso arriba)*\n",
        "- **Constante de tiempo (tau)**: *(valor calculado impreso arriba)*\n",
        "- **Retardo (L)**: *(valor calculado impreso arriba)*\n",
        "\n",
        "La gráfica resultante muestra un buen ajuste entre los datos reales y el modelo, especialmente en la región de estado estacionario. Sin embargo, se observan pequeñas discrepancias en la fase transitoria, lo que podría deberse a efectos no lineales no considerados en el modelo FOPDT."
      ]
    },
    {
      "cell_type": "markdown",
      "metadata": {},
      "source": [
        "## Conclusiones\n",
        "El método de Smith proporcionó una estimación rápida y efectiva de los parámetros del modelo FOPDT utilizando puntos clave de la respuesta al escalón, capturando la dinámica general del sistema, aunque las discrepancias en la fase transitoria sugieren que podrían explorarse modelos más complejos para mejorar la precisión.\n",
        "\n",
        "El código desarrollado demostró ser robusto y reutilizable para análisis de otros conjuntos de datos o sistemas similares. Para validar los resultados, sería recomendable contrastarlos con otros métodos como Ziegler-Nichols o herramientas de identificación de MATLAB, lo que permitiría verificar la consistencia de los parámetros estimados.\n",
        "\n",
        "Este trabajo evidencia la utilidad del método de Smith en la identificación de sistemas térmicos, sentando una base sólida para el diseño de estrategias de control avanzadas."
      ]
    }
  ],
  "metadata": {
    "kernelspec": {
      "display_name": "Python 3",
      "language": "python",
      "name": "python3"
    },
    "language_info": {
      "name": "python",
      "mimetype": "text/x-python",
      "codemirror_mode": {
        "name": "ipython"
      }
    }
  },
  "nbformat": 4,
  "nbformat_minor": 5
}

{
  "nbformat": 4,
  "nbformat_minor": 0,
  "metadata": {
    "colab": {
      "provenance": [],
      "authorship_tag": "ABX9TyN7CH+LpE3AhWNifjL6MDRN",
      "include_colab_link": true
    },
    "kernelspec": {
      "name": "python3",
      "display_name": "Python 3"
    },
    "language_info": {
      "name": "python"
    }
  },
  "cells": [
    {
      "cell_type": "markdown",
      "metadata": {
        "id": "view-in-github",
        "colab_type": "text"
      },
      "source": [
        "<a href=\"https://colab.research.google.com/github/jbcgames/Lab_1_Controls/blob/main/ResumenMetodo_Ziegler_Nichols.ipynb\" target=\"_parent\"><img src=\"https://colab.research.google.com/assets/colab-badge.svg\" alt=\"Open In Colab\"/></a>"
      ]
    },
    {
      "cell_type": "markdown",
      "source": [
        "# Identificación de Modelo FOPDT mediante Ziegler-Nichols"
      ],
      "metadata": {
        "id": "BspmFB_MSBNY"
      }
    },
    {
      "cell_type": "markdown",
      "source": [
        "# Introducción y Objetivos\n",
        "\n",
        "En este trabajo realizamos la identificación de parámetros para un sistema térmico utilizando el método de Ziegler-Nichols. El sistema consiste en un calentador controlado por PWM y sensores de temperatura LM35. Nuestro objetivo fue obtener un modelo FOPDT (First Order Plus Dead Time) que describa adecuadamente la dinámica del sistema para futuros diseños de controladores."
      ],
      "metadata": {
        "id": "G-_2anhwSFbs"
      }
    },
    {
      "cell_type": "markdown",
      "source": [
        "##. Metodología y Explicación Detallada del Código\n",
        "\n",
        "   Configuración Inicial y Lectura de Datos"
      ],
      "metadata": {
        "id": "LjyaAHU-SVn2"
      }
    },
    {
      "cell_type": "code",
      "source": [
        "import pandas as pd\n",
        "import numpy as np\n",
        "import matplotlib.pyplot as plt\n",
        "from scipy.signal import savgol_filter"
      ],
      "metadata": {
        "id": "YwCL-Q1mSdhw"
      },
      "execution_count": null,
      "outputs": []
    },
    {
      "cell_type": "code",
      "source": [
        "df = pd.read_csv('https://raw.githubusercontent.com/jbcgames/Lab_1_Controls/main/Datos.txt')\n",
        "tiempo = df['Tiempo (s)'].values\n",
        "T1 = df[' T1 (C)'].values\n",
        "pwm = df[' PWM_Heater1'].values"
      ],
      "metadata": {
        "id": "DDa59jnrSgln"
      },
      "execution_count": null,
      "outputs": []
    },
    {
      "cell_type": "markdown",
      "source": [
        "Explicación:\n",
        "\n",
        "Leemos los datos directamente desde un repositorio GitHub donde están almacenados los resultados experimentales.\n",
        "\n",
        "Extraemos tres vectores importantes:\n",
        "\n",
        "-tiempo: Contiene los instantes de tiempo de las mediciones.\n",
        "\n",
        "-T1: Valores de temperatura medidos por el sensor LM35.\n",
        "\n",
        "-pwm: Señal de control aplicada al calentador (ciclo de trabajo PWM)."
      ],
      "metadata": {
        "id": "6rwgHZOASluX"
      }
    },
    {
      "cell_type": "markdown",
      "source": [
        "##Detección del Escalón de Entrada"
      ],
      "metadata": {
        "id": "SIZtcrszStYB"
      }
    },
    {
      "cell_type": "code",
      "source": [
        "indices_escalon = np.where((pwm[:-1] == 0) & (pwm[1:] > 0))[0]\n",
        "if len(indices_escalon) == 0:\n",
        "    print(\"No se detectó un escalón en la señal PWM.\")\n",
        "    exit()\n",
        "idx_escalon = indices_escalon[0]\n",
        "t_escalon = tiempo[idx_escalon + 1]\n",
        "print(f\"Escalón detectado en t = {t_escalon:.2f} s\")"
      ],
      "metadata": {
        "id": "X9OZY31lSxMm"
      },
      "execution_count": null,
      "outputs": []
    },
    {
      "cell_type": "markdown",
      "source": [
        "Explicación:\n",
        "\n",
        "-Buscamos el punto donde la señal PWM cambia de 0 a un valor positivo (aplicación del escalón).\n",
        "\n",
        "-np.where identifica los índices donde ocurre esta transición.\n",
        "\n",
        "-Verificamos que efectivamente exista un escalón en los datos.\n",
        "\n",
        "-Calculamos el tiempo exacto donde se aplica el escalón, fundamental para el análisis posterior."
      ],
      "metadata": {
        "id": "7Ixrn7ntS0v2"
      }
    },
    {
      "cell_type": "markdown",
      "source": [
        "##Preprocesamiento de Datos"
      ],
      "metadata": {
        "id": "RZ6eMe8XTARH"
      }
    },
    {
      "cell_type": "code",
      "source": [
        "mask = (tiempo <= 450)\n",
        "tiempo = tiempo[mask]\n",
        "T1 = T1[mask]\n",
        "pwm = pwm[mask]"
      ],
      "metadata": {
        "id": "pbfBM5dYTJPw"
      },
      "execution_count": null,
      "outputs": []
    },
    {
      "cell_type": "markdown",
      "source": [
        "Explicación:\n",
        "\n",
        "-Filtramos los datos para considerar solo los primeros 450 segundos, donde se observa la respuesta completa al escalón.\n",
        "\n",
        "-Esto elimina datos innecesarios que podrían afectar el análisis."
      ],
      "metadata": {
        "id": "mL9kOE9GTN8i"
      }
    },
    {
      "cell_type": "markdown",
      "source": [
        "##Suavizado de la Señal de Temperatura"
      ],
      "metadata": {
        "id": "HER1whtSTUX-"
      }
    },
    {
      "cell_type": "code",
      "source": [
        "window_length = 51\n",
        "polyorder = 3\n",
        "T1_smooth = savgol_filter(T1, window_length, polyorder)"
      ],
      "metadata": {
        "id": "ygEyHoPtTdD6"
      },
      "execution_count": null,
      "outputs": []
    },
    {
      "cell_type": "markdown",
      "source": [
        "Explicación:\n",
        "\n",
        "-Aplicamos un filtro Savitzky-Golay para reducir el ruido en la señal de temperatura.\n",
        "\n",
        "-window_length=51: El tamaño de la ventana de suavizado (debe ser impar).\n",
        "\n",
        "-polyorder=3: El orden del polinomio usado para el ajuste local.\n",
        "\n",
        "-Este paso es crucial para obtener una derivada más limpia y detectar correctamente el punto de inflexión."
      ],
      "metadata": {
        "id": "AAMC7V8uTmPH"
      }
    },
    {
      "cell_type": "markdown",
      "source": [
        "##Cálculo de Parámetros Iniciales"
      ],
      "metadata": {
        "id": "7a4YgAQ-T2du"
      }
    },
    {
      "cell_type": "code",
      "source": [
        "y0 = T1[0]\n",
        "yf = T1[-1]\n",
        "delta_y = yf - y0\n",
        "pwm_step = pwm[0] if pwm[0] > 0 else pwm[np.where(pwm > 0)[0][0]]\n",
        "Kp = delta_y / pwm_step"
      ],
      "metadata": {
        "id": "C4DVZRGkUXaf"
      },
      "execution_count": null,
      "outputs": []
    },
    {
      "cell_type": "markdown",
      "source": [
        "Explicación:\n",
        "\n",
        "-y0: Temperatura inicial antes del escalón.\n",
        "\n",
        "-yf: Temperatura en estado estable después del escalón.\n",
        "\n",
        "-delta_y: Cambio total en la temperatura.\n",
        "\n",
        "-Kp: Ganancia del proceso, calculada como el cambio en la salida dividido por el cambio en la entrada (PWM)."
      ],
      "metadata": {
        "id": "pk1hS_lUUbl4"
      }
    },
    {
      "cell_type": "markdown",
      "source": [
        "##Determinación del Punto de Inflexión"
      ],
      "metadata": {
        "id": "jcb29GwqU0Sv"
      }
    },
    {
      "cell_type": "code",
      "source": [
        "dT1_dt_smooth = np.gradient(T1_smooth, tiempo)\n",
        "idx_max_slope = np.argmax(dT1_dt_smooth)\n",
        "t_inflex = tiempo[idx_max_slope]\n",
        "y_inflex = T1_smooth[idx_max_slope]\n",
        "max_slope = dT1_dt_smooth[idx_max_slope]"
      ],
      "metadata": {
        "id": "fRTf1RQtU37j"
      },
      "execution_count": null,
      "outputs": []
    },
    {
      "cell_type": "markdown",
      "source": [
        "Explicación:\n",
        "\n",
        "-Calculamos la derivada de la señal suavizada para encontrar la pendiente máxima.\n",
        "\n",
        "-np.gradient aproxima numéricamente la derivada.\n",
        "\n",
        "-np.argmax encuentra el índice de la pendiente máxima (punto de inflexión).\n",
        "\n",
        "-Obtenemos el tiempo, valor de temperatura y pendiente en este punto crítico."
      ],
      "metadata": {
        "id": "zPcDqAVvU6zO"
      }
    },
    {
      "cell_type": "markdown",
      "source": [
        "##Cálculo de Tiempo Muerto y Constante de Tiempo"
      ],
      "metadata": {
        "id": "bi77RJclVChX"
      }
    },
    {
      "cell_type": "code",
      "source": [
        "t_dead = t_inflex + (y0 - y_inflex)/max_slope\n",
        "t_end = t_inflex + (yf - y_inflex)/max_slope\n",
        "tm = t_dead - t_escalon\n",
        "tau = t_end - t_dead"
      ],
      "metadata": {
        "id": "54BQ37W7VHvp"
      },
      "execution_count": null,
      "outputs": []
    },
    {
      "cell_type": "markdown",
      "source": [
        "Explicación:\n",
        "\n",
        "-t_dead: Intersección de la tangente en el punto de inflexión con la línea de temperatura inicial.\n",
        "\n",
        "-t_end: Intersección de la misma tangente con la temperatura final.\n",
        "\n",
        "-tm: Tiempo muerto (diferencia entre aplicación del escalón y t_dead).\n",
        "\n",
        "-tau: Constante de tiempo del sistema (diferencia entre t_end y t_dead)."
      ],
      "metadata": {
        "id": "6MX2zOOZVLVe"
      }
    },
    {
      "cell_type": "markdown",
      "source": [
        "##Simulación del Modelo FOPDT"
      ],
      "metadata": {
        "id": "i1Yfm942VcqR"
      }
    },
    {
      "cell_type": "code",
      "source": [
        "t_modelo = tiempo.copy()\n",
        "respuesta_modelo = np.zeros_like(t_modelo)\n",
        "for i, t in enumerate(t_modelo):\n",
        "    if t < (t_escalon + tm):\n",
        "        respuesta_modelo[i] = y0\n",
        "    else:\n",
        "        respuesta_modelo[i] = y0 + Kp * pwm_step * (1 - np.exp(-(t - (t_escalon + tm)) / tau))"
      ],
      "metadata": {
        "id": "Jh-rd6_wVhj5"
      },
      "execution_count": null,
      "outputs": []
    },
    {
      "cell_type": "markdown",
      "source": [
        "Explicación detallada:\n",
        "\n",
        "-Generamos la respuesta teórica del modelo FOPDT obtenido.\n",
        "\n",
        "-Para tiempos menores que t_escalon + tm, la salida permanece en y0.\n",
        "\n",
        "-Luego, sigue una exponencial creciente característica de sistemas de primer orden."
      ],
      "metadata": {
        "id": "Taqk0R9hVko2"
      }
    },
    {
      "cell_type": "markdown",
      "source": [
        "##Visualización de Resultados"
      ],
      "metadata": {
        "id": "_ofLJLrEVsZM"
      }
    },
    {
      "cell_type": "code",
      "source": [
        "plt.figure()\n",
        "plt.plot(tiempo, T1, label='Datos originales')\n",
        "plt.plot(tiempo, T1_smooth, label='Datos suavizados (Savitzky-Golay)')\n",
        "plt.plot(t_modelo, respuesta_modelo, '--', label='Modelo Z-N FOPDT (filtrado)')\n",
        "plt.axvline(t_escalon, color='orange', linestyle='--', label='Inicio escalón')\n",
        "plt.axvline(t_escalon + tm, color='gray', linestyle='--', label='Tiempo muerto')\n",
        "plt.xlabel('Tiempo [s]')\n",
        "plt.ylabel('Temperatura [°C]')\n",
        "plt.title('Método Tangente Ziegler-Nichols con Datos Suavizados')\n",
        "plt.legend()\n",
        "plt.grid(True)\n",
        "plt.tight_layout()\n",
        "plt.show()"
      ],
      "metadata": {
        "id": "GOsA3_ahVxaW"
      },
      "execution_count": null,
      "outputs": []
    },
    {
      "cell_type": "markdown",
      "source": [
        "Explicación detallada:\n",
        "\n",
        "Graficamos tres curvas principales:\n",
        "\n",
        "-Datos originales de temperatura.\n",
        "\n",
        "-Datos suavizados.\n",
        "\n",
        "Respuesta del modelo FOPDT obtenido:\n",
        "\n",
        "-Líneas verticales marcan el inicio del escalón y el tiempo muerto.\n",
        "\n",
        "-La gráfica permite comparar visualmente el ajuste del modelo a los datos reales."
      ],
      "metadata": {
        "id": "wzFbpZE1V0wn"
      }
    },
    {
      "cell_type": "markdown",
      "source": [
        "##Resultados Obtenidos"
      ],
      "metadata": {
        "id": "Yw-KJpYuWIzn"
      }
    },
    {
      "cell_type": "markdown",
      "source": [
        "La gráfica muestra que el modelo FOPDT se ajusta razonablemente bien a los datos experimentales, particularmente en la parte inicial de la respuesta y en el estado estable. Se observa cierta discrepancia en la región intermedia, lo que podría deberse a:\n",
        "\n",
        "No linealidades no consideradas en el modelo FOPDT\n",
        "\n",
        "Efectos de acoplamiento térmico con otros elementos del sistema\n",
        "\n",
        "Limitaciones del método de Ziegler-Nichols para sistemas con dinámicas más complejas"
      ],
      "metadata": {
        "id": "TKyVmjV4WHmP"
      }
    },
    {
      "cell_type": "markdown",
      "source": [
        "##Conclusiones"
      ],
      "metadata": {
        "id": "bqkJ8PZ0WfxH"
      }
    },
    {
      "cell_type": "markdown",
      "source": [
        "El método de Ziegler-Nichols aplicado a la respuesta al escalón permitió obtener un modelo FOPDT con parámetros físicamente razonables para el sistema térmico, donde el tiempo muerto identificado (10.33 s) resulta coherente con la inercia térmica esperada en este tipo de sistemas, evidenciando el retardo necesario para que el calor se propague desde el calentador al sensor, mientras que la constante de tiempo relativamente grande (171.74 s) confirma la naturaleza lenta del proceso, característica típica de sistemas térmicos con alta capacidad calorífica, destacando además que el suavizado de datos fue esencial para una identificación precisa del punto de inflexión y el cálculo correcto de la pendiente máxima."
      ],
      "metadata": {
        "id": "KQG8s7BLWbZ5"
      }
    }
  ]
}
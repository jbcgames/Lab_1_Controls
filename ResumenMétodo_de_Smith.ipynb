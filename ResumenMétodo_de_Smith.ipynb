{
  "cells": [
    {
      "cell_type": "markdown",
      "metadata": {
        "id": "view-in-github",
        "colab_type": "text"
      },
      "source": [
        "<a href=\"https://colab.research.google.com/github/jbcgames/Lab_1_Controls/blob/main/ResumenM%C3%A9todo_de_Smith.ipynb\" target=\"_parent\"><img src=\"https://colab.research.google.com/assets/colab-badge.svg\" alt=\"Open In Colab\"/></a>"
      ]
    },
    {
      "cell_type": "markdown",
      "source": [
        "#Informe de Identificación de Modelo FOPDT utilizando el Método de Smith"
      ],
      "metadata": {
        "id": "Z40ivF5TaaOn"
      },
      "id": "Z40ivF5TaaOn"
    },
    {
      "cell_type": "markdown",
      "source": [
        "##Introducción\n",
        "\n",
        "Este informe detalla el proceso de identificación de un modelo FOPDT (First Order Plus Dead Time) para un sistema térmico utilizando el método de Smith. El análisis se realizó a partir de datos experimentales obtenidos de un sistema de control de temperatura con sensores LM35 y calentadores controlados por PWM."
      ],
      "metadata": {
        "id": "wqLl131DadWA"
      },
      "id": "wqLl131DadWA"
    },
    {
      "cell_type": "markdown",
      "source": [
        "####Importación de Bibliotecas"
      ],
      "metadata": {
        "id": "-OH2QhmLamiQ"
      },
      "id": "-OH2QhmLamiQ"
    },
    {
      "cell_type": "code",
      "source": [
        "! pip install pandas numpy matplotlib control"
      ],
      "metadata": {
        "id": "hYlD0LiceAxW"
      },
      "id": "hYlD0LiceAxW",
      "execution_count": null,
      "outputs": []
    },
    {
      "cell_type": "code",
      "source": [
        "import pandas as pd\n",
        "import numpy as np\n",
        "import matplotlib.pyplot as plt\n",
        "from scipy.signal import savgol_filter"
      ],
      "metadata": {
        "id": "9jm6roi5av_I"
      },
      "id": "9jm6roi5av_I",
      "execution_count": null,
      "outputs": []
    },
    {
      "cell_type": "markdown",
      "source": [
        "##Lectura de Datos"
      ],
      "metadata": {
        "id": "KanQeDKkazQA"
      },
      "id": "KanQeDKkazQA"
    },
    {
      "cell_type": "code",
      "source": [
        "url_datos = 'https://raw.githubusercontent.com/jbcgames/Lab_1_Controls/main/Datos.txt'\n",
        "df = pd.read_csv(url_datos)"
      ],
      "metadata": {
        "id": "hK7K-JBsa22P"
      },
      "id": "hK7K-JBsa22P",
      "execution_count": null,
      "outputs": []
    },
    {
      "cell_type": "markdown",
      "source": [
        "Propósito: Cargar los datos experimentales desde un repositorio en línea.\n",
        "\n",
        "Detalles: Los datos se almacenan en un DataFrame de pandas para su posterior procesamiento."
      ],
      "metadata": {
        "id": "Ju-oZM7na8vn"
      },
      "id": "Ju-oZM7na8vn"
    },
    {
      "cell_type": "markdown",
      "source": [
        "##Extracción y Filtrado de Datos"
      ],
      "metadata": {
        "id": "P62ynbu5bDwk"
      },
      "id": "P62ynbu5bDwk"
    },
    {
      "cell_type": "code",
      "source": [
        "tiempo = df['Tiempo (s)'].values\n",
        "T1 = df[' T1 (C)'].values\n",
        "pwm = df[' PWM_Heater1'].values\n",
        "mask = (tiempo <= 450)\n",
        "tiempo = tiempo[mask]\n",
        "T1 = T1[mask]\n",
        "pwm = pwm[mask]"
      ],
      "metadata": {
        "id": "F6-8SxSTbGrI"
      },
      "id": "F6-8SxSTbGrI",
      "execution_count": null,
      "outputs": []
    },
    {
      "cell_type": "markdown",
      "source": [
        "Propósito: Extraer las columnas relevantes (tiempo, temperatura T1 y señal PWM) y limitar el análisis a los primeros 450 segundos.\n",
        "\n",
        "Detalles: Se crea una máscara booleana para seleccionar solo los datos dentro del rango de tiempo deseado."
      ],
      "metadata": {
        "id": "0UiLHyk_bKfY"
      },
      "id": "0UiLHyk_bKfY"
    },
    {
      "cell_type": "markdown",
      "source": [
        "##Detección del Escalón PWM"
      ],
      "metadata": {
        "id": "hW1v5p2ObOP0"
      },
      "id": "hW1v5p2ObOP0"
    },
    {
      "cell_type": "code",
      "source": [
        "indices_escalon = np.where((pwm[:-1] == 0) & (pwm[1:] > 0))[0]\n",
        "if len(indices_escalon) == 0:\n",
        "    print(\"No se detectó un escalón (0 -> valor>0) en PWM.\")\n",
        "    exit()\n",
        "idx_escalon = indices_escalon[0]\n",
        "t_escalon = tiempo[idx_escalon + 1]\n",
        "print(f\"Escalón detectado en t = {t_escalon:.2f} s\")"
      ],
      "metadata": {
        "id": "1MISXM5UbRbH"
      },
      "id": "1MISXM5UbRbH",
      "execution_count": null,
      "outputs": []
    },
    {
      "cell_type": "markdown",
      "source": [
        "Propósito: Identificar el momento exacto en que se aplica un escalón de potencia al sistema (transición de PWM=0 a PWM>0).\n",
        "\n",
        "Detalles: Se buscan los índices donde ocurre esta transición y se registra el tiempo correspondiente."
      ],
      "metadata": {
        "id": "brsOxnG6bT4N"
      },
      "id": "brsOxnG6bT4N"
    },
    {
      "cell_type": "markdown",
      "source": [
        "##Recorte de Datos"
      ],
      "metadata": {
        "id": "tGhBnG_qbXtF"
      },
      "id": "tGhBnG_qbXtF"
    },
    {
      "cell_type": "code",
      "source": [
        "tiempo = tiempo[idx_escalon:]\n",
        "T1 = T1[idx_escalon:]\n",
        "pwm = pwm[idx_escalon:]"
      ],
      "metadata": {
        "id": "vHTU5vELbc-N"
      },
      "id": "vHTU5vELbc-N",
      "execution_count": null,
      "outputs": []
    },
    {
      "cell_type": "markdown",
      "source": [
        "Propósito: Ajustar los datos para comenzar el análisis desde el instante del escalón.\n",
        "\n",
        "Detalles: Se descartan los datos anteriores al escalón para centrarse en la respuesta del sistema."
      ],
      "metadata": {
        "id": "6lu0okM7bfOX"
      },
      "id": "6lu0okM7bfOX"
    },
    {
      "cell_type": "markdown",
      "source": [
        "##Filtrado de Señal"
      ],
      "metadata": {
        "id": "V2cU_IA3bjhe"
      },
      "id": "V2cU_IA3bjhe"
    },
    {
      "cell_type": "code",
      "source": [
        "window_length = 31\n",
        "polyorder = 3\n",
        "T1_smooth = savgol_filter(T1, window_length, polyorder)"
      ],
      "metadata": {
        "id": "oeBS7v76bmjA"
      },
      "id": "oeBS7v76bmjA",
      "execution_count": null,
      "outputs": []
    },
    {
      "cell_type": "markdown",
      "source": [
        "Propósito: Suavizar los datos de temperatura para reducir el ruido y facilitar la identificación del modelo.\n",
        "\n",
        "Detalles: Se aplica un filtro Savitzky-Golay con ventana de 31 puntos y polinomio de orden 3."
      ],
      "metadata": {
        "id": "cPVJkmiubpR7"
      },
      "id": "cPVJkmiubpR7"
    },
    {
      "cell_type": "markdown",
      "source": [
        "##Determinación de Valores Iniciales y Finales"
      ],
      "metadata": {
        "id": "QjfEKMIIbs7m"
      },
      "id": "QjfEKMIIbs7m"
    },
    {
      "cell_type": "code",
      "source": [
        "y0 = T1_smooth[0]\n",
        "yf = T1_smooth[-1]\n",
        "delta_y = yf - y0"
      ],
      "metadata": {
        "id": "dEaOHQplbwAe"
      },
      "id": "dEaOHQplbwAe",
      "execution_count": null,
      "outputs": []
    },
    {
      "cell_type": "markdown",
      "source": [
        "Propósito: Calcular el cambio total en temperatura causado por el escalón.\n",
        "\n",
        "Detalles: Se toman los valores inicial (y0) y final (yf) de la señal suavizada para determinar el rango de variación."
      ],
      "metadata": {
        "id": "7BmDieaUb0Pp"
      },
      "id": "7BmDieaUb0Pp"
    },
    {
      "cell_type": "markdown",
      "source": [
        "##Cálculo de Puntos Característicos"
      ],
      "metadata": {
        "id": "iApZ4RTZb2d9"
      },
      "id": "iApZ4RTZb2d9"
    },
    {
      "cell_type": "code",
      "source": [
        "y_28 = y0 + 0.283 * delta_y\n",
        "y_63 = y0 + 0.632 * delta_y\n",
        "t_28 = tiempo[np.argmin(np.abs(T1_smooth - y_28))]\n",
        "t_63 = tiempo[np.argmin(np.abs(T1_smooth - y_63))]"
      ],
      "metadata": {
        "id": "PNvAKpN8b5Rf"
      },
      "id": "PNvAKpN8b5Rf",
      "execution_count": null,
      "outputs": []
    },
    {
      "cell_type": "markdown",
      "source": [
        "Propósito: Encontrar los tiempos en que la respuesta alcanza el 28.3% y 63.2% de su cambio total.\n",
        "\n",
        "Detalles: Estos puntos son cruciales para el método de Smith, ya que permiten estimar los parámetros del modelo."
      ],
      "metadata": {
        "id": "u8NlBtMZb7VN"
      },
      "id": "u8NlBtMZb7VN"
    },
    {
      "cell_type": "markdown",
      "source": [
        "##Cálculo de Parámetros del Modelo"
      ],
      "metadata": {
        "id": "x7qLXZpqb-JF"
      },
      "id": "x7qLXZpqb-JF"
    },
    {
      "cell_type": "code",
      "source": [
        "tau = 1.5 * (t_63 - t_28)\n",
        "L = t_63 - tau\n",
        "K = delta_y / pwm[idx_escalon + 1]"
      ],
      "metadata": {
        "id": "BwIEphiDcA1J"
      },
      "id": "BwIEphiDcA1J",
      "execution_count": null,
      "outputs": []
    },
    {
      "cell_type": "markdown",
      "source": [
        "Propósito: Calcular la constante de tiempo (τ), el tiempo muerto (L) y la ganancia (K) del modelo FOPDT.\n",
        "\n",
        "Detalles:\n",
        "\n",
        "-τ se calcula como 1.5 veces la diferencia entre t_63 y t_28.\n",
        "\n",
        "-L se obtiene restando τ de t_63.\n",
        "\n",
        "-K es la relación entre el cambio en temperatura y el cambio en PWM."
      ],
      "metadata": {
        "id": "_fq9NXencDUV"
      },
      "id": "_fq9NXencDUV"
    },
    {
      "cell_type": "markdown",
      "source": [
        "##Simulación del Modelo"
      ],
      "metadata": {
        "id": "PodFWCl3cK7z"
      },
      "id": "PodFWCl3cK7z"
    },
    {
      "cell_type": "code",
      "source": [
        "t_modelo = tiempo\n",
        "respuesta_modelo = np.zeros_like(t_modelo)\n",
        "for i, t in enumerate(t_modelo):\n",
        "    if t < L:\n",
        "        respuesta_modelo[i] = y0\n",
        "    else:\n",
        "        respuesta_modelo[i] = y0 + K * pwm[idx_escalon + 1] * (1 - np.exp(-(t - L)/tau))"
      ],
      "metadata": {
        "id": "443MhpZmcPjv"
      },
      "id": "443MhpZmcPjv",
      "execution_count": null,
      "outputs": []
    },
    {
      "cell_type": "markdown",
      "source": [
        "Propósito: Generar la respuesta teórica del modelo FOPDT identificado.\n",
        "\n",
        "Detalles: Se implementa la ecuación del modelo FOPDT considerando el tiempo muerto L."
      ],
      "metadata": {
        "id": "RIQII4JucSQH"
      },
      "id": "RIQII4JucSQH"
    },
    {
      "cell_type": "markdown",
      "source": [
        "##Visualización de Resultados"
      ],
      "metadata": {
        "id": "oKnwBaIRcUS-"
      },
      "id": "oKnwBaIRcUS-"
    },
    {
      "cell_type": "code",
      "source": [
        "plt.figure(figsize=(8,5))\n",
        "plt.plot(tiempo, T1, label='Datos originales', alpha=0.7)\n",
        "plt.plot(tiempo, T1_smooth, label='Datos suavizados (Savitzky-Golay)')\n",
        "plt.plot(t_modelo, respuesta_modelo, '--', label='Modelo FOPDT (Smith)')\n",
        "plt.axvline(L, color='gray', linestyle='--', label='Tiempo muerto L')"
      ],
      "metadata": {
        "id": "DAFwcr-2caIB"
      },
      "id": "DAFwcr-2caIB",
      "execution_count": null,
      "outputs": []
    },
    {
      "cell_type": "markdown",
      "source": [
        "Propósito: Comparar visualmente los datos experimentales con el modelo identificado.\n",
        "\n",
        "Detalles: Se grafican los datos originales, los suavizados y la respuesta del modelo, junto con una línea que indica el tiempo muerto."
      ],
      "metadata": {
        "id": "45H3-2CrccM-"
      },
      "id": "45H3-2CrccM-"
    },
    {
      "cell_type": "markdown",
      "source": [
        "##Resultados Obtenidos"
      ],
      "metadata": {
        "id": "UYcY_TIQchcv"
      },
      "id": "UYcY_TIQchcv"
    },
    {
      "cell_type": "markdown",
      "source": [
        "-Los datos originales de temperatura con cierto ruido.\n",
        "\n",
        "-La señal suavizada que facilita la identificación de parámetros.\n",
        "\n",
        "-La respuesta del modelo FOPDT identificado.\n",
        "\n",
        "-La línea vertical que indica el tiempo muerto estimado."
      ],
      "metadata": {
        "id": "psZyrMMJcl9s"
      },
      "id": "psZyrMMJcl9s"
    },
    {
      "cell_type": "markdown",
      "source": [
        "##Conclusiones"
      ],
      "metadata": {
        "id": "8mY03TD9cswm"
      },
      "id": "8mY03TD9cswm"
    },
    {
      "cell_type": "markdown",
      "source": [
        "El modelo FOPDT obtenido mediante el método de Smith (K=0.361, τ=135.26 s, L=25.07 s) representa satisfactoriamente el comportamiento del sistema térmico. Los parámetros identificados muestran una relación estable entre la potencia aplicada y la temperatura, con la respuesta lenta característica de estos sistemas y un retardo asociado a la inercia térmica. La concordancia entre los datos experimentales procesados y la respuesta del modelo confirma la validez del enfoque, aunque se observan pequeñas diferencias que podrían atribuirse a efectos secundarios no considerados. Estos resultados constituyen un punto de partida sólido para el desarrollo de estrategias de control, recomendándose complementar el estudio con pruebas adicionales para verificar el modelo en diferentes condiciones de operación."
      ],
      "metadata": {
        "id": "STEQFLVjdnqH"
      },
      "id": "STEQFLVjdnqH"
    }
  ],
  "metadata": {
    "kernelspec": {
      "display_name": "Python 3",
      "language": "python",
      "name": "python3"
    },
    "language_info": {
      "name": "python",
      "mimetype": "text/x-python",
      "codemirror_mode": {
        "name": "ipython"
      }
    },
    "colab": {
      "provenance": [],
      "include_colab_link": true
    }
  },
  "nbformat": 4,
  "nbformat_minor": 5
}